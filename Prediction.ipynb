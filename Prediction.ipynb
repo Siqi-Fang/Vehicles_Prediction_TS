{
  "nbformat": 4,
  "nbformat_minor": 0,
  "metadata": {
    "colab": {
      "name": "Prediction.ipynb",
      "provenance": [],
      "history_visible": true,
      "mount_file_id": "1XsSuhcRlwKQhL4bSlIOlooiaImNuy_Bo",
      "authorship_tag": "ABX9TyMUy3d2+QjY504jSZYSVW1Q",
      "include_colab_link": true
    },
    "kernelspec": {
      "name": "python3",
      "display_name": "Python 3"
    },
    "language_info": {
      "name": "python"
    }
  },
  "cells": [
    {
      "cell_type": "markdown",
      "metadata": {
        "id": "view-in-github",
        "colab_type": "text"
      },
      "source": [
        "<a href=\"https://colab.research.google.com/github/Siqi-Fang/Vehicles_Prediction_TS/blob/main/Prediction.ipynb\" target=\"_parent\"><img src=\"https://colab.research.google.com/assets/colab-badge.svg\" alt=\"Open In Colab\"/></a>"
      ]
    },
    {
      "cell_type": "markdown",
      "source": [
        "#Problem Statement\n",
        "[Acknowledgement](https://www.kaggle.com/vetrirah/ml-iot)\n",
        "##Context\n",
        "You are working with the government to transform your city into a smart city. The vision is to convert it into a digital and intelligent city to improve the efficiency of services for the citizens. One of the problems faced by the government is traffic. You are a data scientist working to manage the traffic of the city better and to provide input on infrastructure planning for the future.\n",
        "\n",
        "The government wants to implement a robust traffic system for the city by being prepared for traffic peaks. They want to understand the **traffic patterns of the four junctions of the city**. **Traffic patterns on holidays, as well as on various other occasions during the year, differ from normal working days.** This is important to take into account for your forecasting.\n",
        "\n",
        "##Content\n",
        "To predict traffic patterns in each of these four junctions for the next 4 months.\n",
        "\n",
        "The sensors on each of these junctions were collecting data at different times, hence you will see traffic data from different time periods. To add to the complexity, some of the junctions have provided limited or sparse data requiring thoughtfulness when creating future projections. Depending upon the historical data of 20 months, the government is looking to you to deliver accurate traffic projections for the coming four months. Your algorithm will become the foundation of a larger transformation to make your city smart and intelligent."
      ],
      "metadata": {
        "id": "tBdPYfDkStTE"
      }
    },
    {
      "cell_type": "markdown",
      "source": [
        "#Analysis\n",
        "##Packages"
      ],
      "metadata": {
        "id": "YBZv7Y-RV-WS"
      }
    },
    {
      "cell_type": "code",
      "source": [
        "# pip install statsmodels"
      ],
      "metadata": {
        "id": "gWNyOFLWa8z1"
      },
      "execution_count": null,
      "outputs": []
    },
    {
      "cell_type": "code",
      "source": [
        "# Data Manipulation:\n",
        "import numpy as np\n",
        "import pandas as pd\n",
        "\n",
        "# Data Viz :\n",
        "import matplotlib.pyplot as plt\n",
        "import seaborn as sns \n",
        "# Machine Learning \n",
        "from sklearn.model_selection import train_test_split\n",
        "from sklearn.model_selection import GridSearchCV\n",
        "  # metrics\n",
        "from sklearn.metrics import mean_absolute_error\n",
        "from sklearn.metrics import mean_squared_error\n",
        "from sklearn.metrics import r2_score\n",
        "  # models\n",
        "from sklearn.gaussian_process import GaussianProcessRegressor\n",
        "from sklearn.linear_model import LinearRegression\n",
        "from xgboost import XGBRegressor\n",
        "from statsmodels.tsa.arima_model import ARIMA\n",
        "from statsmodels.tsa.stattools import adfuller\n",
        "from statsmodels.tsa.stattools import acf, pacf\n",
        "from statsmodels.tsa.seasonal import seasonal_decompose\n",
        "# Time Series \n",
        "from datetime import datetime "
      ],
      "metadata": {
        "id": "BIE424IgWGcX"
      },
      "execution_count": null,
      "outputs": []
    },
    {
      "cell_type": "markdown",
      "source": [
        "##Load Dataset\n",
        "\n",
        "See acknowledgment for data source."
      ],
      "metadata": {
        "id": "SSbg0BgfUiJi"
      }
    },
    {
      "cell_type": "code",
      "source": [
        "train_path = '/content/drive/MyDrive/Colab Notebooks/TS_IOT/train_ML_IOT.csv'\n",
        "test_path = '/content/drive/MyDrive/Colab Notebooks/TS_IOT/test_ML_IOT.csv'\n",
        "\n",
        "train = pd.read_csv(train_path)\n",
        "test = pd.read_csv(test_path)"
      ],
      "metadata": {
        "id": "Tt51yQb7UlV0"
      },
      "execution_count": null,
      "outputs": []
    },
    {
      "cell_type": "markdown",
      "source": [
        "##Basic Data Info"
      ],
      "metadata": {
        "id": "H_NBmzoqUdDP"
      }
    },
    {
      "cell_type": "code",
      "source": [
        "# Python Method 1 : Displays Data Information :\n",
        "\"\"\"\n",
        "def display_data_information(data, data_types, dataframe_name):\n",
        "    print(\" Information of \",dataframe_name,\": Rows = \",data.shape[0],\"| Columns = \",data.shape[1],\"\\n\")\n",
        "    data.info()\n",
        "    print(\"\\n\")\n",
        "    for VARIABLE in data_types :\n",
        "        data_type = data.select_dtypes(include=[ VARIABLE ]).dtypes\n",
        "        if len(data_type) > 0 :\n",
        "            print(str(len(data_type))+\" \"+VARIABLE+\" Features\\n\"+str(data_type)+\"\\n\"  )        \n",
        "\n",
        "data_types  = [\"float32\",\"float64\",\"int32\",\"int64\",\"object\",\"category\",\"datetime64[ns]\"]\n",
        "\"\"\""
      ],
      "metadata": {
        "id": "-Nyge_fFUhQB",
        "colab": {
          "base_uri": "https://localhost:8080/",
          "height": 122
        },
        "outputId": "1994de2b-3946-4e06-db8c-0eb3df8615c8"
      },
      "execution_count": null,
      "outputs": [
        {
          "output_type": "execute_result",
          "data": {
            "application/vnd.google.colaboratory.intrinsic+json": {
              "type": "string"
            },
            "text/plain": [
              "'\\ndef display_data_information(data, data_types, dataframe_name):\\n    print(\" Information of \",dataframe_name,\": Rows = \",data.shape[0],\"| Columns = \",data.shape[1],\"\\n\")\\n    data.info()\\n    print(\"\\n\")\\n    for VARIABLE in data_types :\\n        data_type = data.select_dtypes(include=[ VARIABLE ]).dtypes\\n        if len(data_type) > 0 :\\n            print(str(len(data_type))+\" \"+VARIABLE+\" Features\\n\"+str(data_type)+\"\\n\"  )        \\n\\ndata_types  = [\"float32\",\"float64\",\"int32\",\"int64\",\"object\",\"category\",\"datetime64[ns]\"]\\n'"
            ]
          },
          "metadata": {},
          "execution_count": 199
        }
      ]
    },
    {
      "cell_type": "code",
      "source": [
        "# display data information of training set \n",
        "#display_data_information(train, data_types, \"Train\")"
      ],
      "metadata": {
        "colab": {
          "base_uri": "https://localhost:8080/"
        },
        "id": "SBHdo5N0VYOi",
        "outputId": "790e9eac-b2ad-48a7-9e88-6e7e27e88e2b"
      },
      "execution_count": null,
      "outputs": [
        {
          "output_type": "stream",
          "name": "stdout",
          "text": [
            " Information of  Train : Rows =  48120 | Columns =  4 \n",
            "\n",
            "<class 'pandas.core.frame.DataFrame'>\n",
            "RangeIndex: 48120 entries, 0 to 48119\n",
            "Data columns (total 4 columns):\n",
            " #   Column    Non-Null Count  Dtype \n",
            "---  ------    --------------  ----- \n",
            " 0   DateTime  48120 non-null  object\n",
            " 1   Junction  48120 non-null  int64 \n",
            " 2   Vehicles  48120 non-null  int64 \n",
            " 3   ID        48120 non-null  int64 \n",
            "dtypes: int64(3), object(1)\n",
            "memory usage: 1.5+ MB\n",
            "\n",
            "\n",
            "3 int64 Features\n",
            "Junction    int64\n",
            "Vehicles    int64\n",
            "ID          int64\n",
            "dtype: object\n",
            "\n",
            "1 object Features\n",
            "DateTime    object\n",
            "dtype: object\n",
            "\n"
          ]
        }
      ]
    },
    {
      "cell_type": "markdown",
      "source": [
        "The time intervals are 1 hr. The data range from 2015-11-01 to 2017-06-30.\n",
        "Junction: category and number of Vehicles are documented. "
      ],
      "metadata": {
        "id": "c7YDzFots9Ot"
      }
    },
    {
      "cell_type": "code",
      "source": [
        "# display some sample entries\n",
        "train.head(3).append(train.tail(3))"
      ],
      "metadata": {
        "colab": {
          "base_uri": "https://localhost:8080/",
          "height": 238
        },
        "id": "sfPoeosvVt5k",
        "outputId": "ec1ddd58-0106-47d2-f5d8-c32c732ced59"
      },
      "execution_count": null,
      "outputs": [
        {
          "output_type": "execute_result",
          "data": {
            "text/html": [
              "\n",
              "  <div id=\"df-350bbd72-7180-4360-a202-7322ace73e72\">\n",
              "    <div class=\"colab-df-container\">\n",
              "      <div>\n",
              "<style scoped>\n",
              "    .dataframe tbody tr th:only-of-type {\n",
              "        vertical-align: middle;\n",
              "    }\n",
              "\n",
              "    .dataframe tbody tr th {\n",
              "        vertical-align: top;\n",
              "    }\n",
              "\n",
              "    .dataframe thead th {\n",
              "        text-align: right;\n",
              "    }\n",
              "</style>\n",
              "<table border=\"1\" class=\"dataframe\">\n",
              "  <thead>\n",
              "    <tr style=\"text-align: right;\">\n",
              "      <th></th>\n",
              "      <th>DateTime</th>\n",
              "      <th>Junction</th>\n",
              "      <th>Vehicles</th>\n",
              "      <th>ID</th>\n",
              "    </tr>\n",
              "  </thead>\n",
              "  <tbody>\n",
              "    <tr>\n",
              "      <th>0</th>\n",
              "      <td>2015-11-01 00:00:00</td>\n",
              "      <td>1</td>\n",
              "      <td>15</td>\n",
              "      <td>20151101001</td>\n",
              "    </tr>\n",
              "    <tr>\n",
              "      <th>1</th>\n",
              "      <td>2015-11-01 01:00:00</td>\n",
              "      <td>1</td>\n",
              "      <td>13</td>\n",
              "      <td>20151101011</td>\n",
              "    </tr>\n",
              "    <tr>\n",
              "      <th>2</th>\n",
              "      <td>2015-11-01 02:00:00</td>\n",
              "      <td>1</td>\n",
              "      <td>10</td>\n",
              "      <td>20151101021</td>\n",
              "    </tr>\n",
              "    <tr>\n",
              "      <th>48117</th>\n",
              "      <td>2017-06-30 21:00:00</td>\n",
              "      <td>4</td>\n",
              "      <td>16</td>\n",
              "      <td>20170630214</td>\n",
              "    </tr>\n",
              "    <tr>\n",
              "      <th>48118</th>\n",
              "      <td>2017-06-30 22:00:00</td>\n",
              "      <td>4</td>\n",
              "      <td>22</td>\n",
              "      <td>20170630224</td>\n",
              "    </tr>\n",
              "    <tr>\n",
              "      <th>48119</th>\n",
              "      <td>2017-06-30 23:00:00</td>\n",
              "      <td>4</td>\n",
              "      <td>12</td>\n",
              "      <td>20170630234</td>\n",
              "    </tr>\n",
              "  </tbody>\n",
              "</table>\n",
              "</div>\n",
              "      <button class=\"colab-df-convert\" onclick=\"convertToInteractive('df-350bbd72-7180-4360-a202-7322ace73e72')\"\n",
              "              title=\"Convert this dataframe to an interactive table.\"\n",
              "              style=\"display:none;\">\n",
              "        \n",
              "  <svg xmlns=\"http://www.w3.org/2000/svg\" height=\"24px\"viewBox=\"0 0 24 24\"\n",
              "       width=\"24px\">\n",
              "    <path d=\"M0 0h24v24H0V0z\" fill=\"none\"/>\n",
              "    <path d=\"M18.56 5.44l.94 2.06.94-2.06 2.06-.94-2.06-.94-.94-2.06-.94 2.06-2.06.94zm-11 1L8.5 8.5l.94-2.06 2.06-.94-2.06-.94L8.5 2.5l-.94 2.06-2.06.94zm10 10l.94 2.06.94-2.06 2.06-.94-2.06-.94-.94-2.06-.94 2.06-2.06.94z\"/><path d=\"M17.41 7.96l-1.37-1.37c-.4-.4-.92-.59-1.43-.59-.52 0-1.04.2-1.43.59L10.3 9.45l-7.72 7.72c-.78.78-.78 2.05 0 2.83L4 21.41c.39.39.9.59 1.41.59.51 0 1.02-.2 1.41-.59l7.78-7.78 2.81-2.81c.8-.78.8-2.07 0-2.86zM5.41 20L4 18.59l7.72-7.72 1.47 1.35L5.41 20z\"/>\n",
              "  </svg>\n",
              "      </button>\n",
              "      \n",
              "  <style>\n",
              "    .colab-df-container {\n",
              "      display:flex;\n",
              "      flex-wrap:wrap;\n",
              "      gap: 12px;\n",
              "    }\n",
              "\n",
              "    .colab-df-convert {\n",
              "      background-color: #E8F0FE;\n",
              "      border: none;\n",
              "      border-radius: 50%;\n",
              "      cursor: pointer;\n",
              "      display: none;\n",
              "      fill: #1967D2;\n",
              "      height: 32px;\n",
              "      padding: 0 0 0 0;\n",
              "      width: 32px;\n",
              "    }\n",
              "\n",
              "    .colab-df-convert:hover {\n",
              "      background-color: #E2EBFA;\n",
              "      box-shadow: 0px 1px 2px rgba(60, 64, 67, 0.3), 0px 1px 3px 1px rgba(60, 64, 67, 0.15);\n",
              "      fill: #174EA6;\n",
              "    }\n",
              "\n",
              "    [theme=dark] .colab-df-convert {\n",
              "      background-color: #3B4455;\n",
              "      fill: #D2E3FC;\n",
              "    }\n",
              "\n",
              "    [theme=dark] .colab-df-convert:hover {\n",
              "      background-color: #434B5C;\n",
              "      box-shadow: 0px 1px 3px 1px rgba(0, 0, 0, 0.15);\n",
              "      filter: drop-shadow(0px 1px 2px rgba(0, 0, 0, 0.3));\n",
              "      fill: #FFFFFF;\n",
              "    }\n",
              "  </style>\n",
              "\n",
              "      <script>\n",
              "        const buttonEl =\n",
              "          document.querySelector('#df-350bbd72-7180-4360-a202-7322ace73e72 button.colab-df-convert');\n",
              "        buttonEl.style.display =\n",
              "          google.colab.kernel.accessAllowed ? 'block' : 'none';\n",
              "\n",
              "        async function convertToInteractive(key) {\n",
              "          const element = document.querySelector('#df-350bbd72-7180-4360-a202-7322ace73e72');\n",
              "          const dataTable =\n",
              "            await google.colab.kernel.invokeFunction('convertToInteractive',\n",
              "                                                     [key], {});\n",
              "          if (!dataTable) return;\n",
              "\n",
              "          const docLinkHtml = 'Like what you see? Visit the ' +\n",
              "            '<a target=\"_blank\" href=https://colab.research.google.com/notebooks/data_table.ipynb>data table notebook</a>'\n",
              "            + ' to learn more about interactive tables.';\n",
              "          element.innerHTML = '';\n",
              "          dataTable['output_type'] = 'display_data';\n",
              "          await google.colab.output.renderOutput(dataTable, element);\n",
              "          const docLink = document.createElement('div');\n",
              "          docLink.innerHTML = docLinkHtml;\n",
              "          element.appendChild(docLink);\n",
              "        }\n",
              "      </script>\n",
              "    </div>\n",
              "  </div>\n",
              "  "
            ],
            "text/plain": [
              "                  DateTime  Junction  Vehicles           ID\n",
              "0      2015-11-01 00:00:00         1        15  20151101001\n",
              "1      2015-11-01 01:00:00         1        13  20151101011\n",
              "2      2015-11-01 02:00:00         1        10  20151101021\n",
              "48117  2017-06-30 21:00:00         4        16  20170630214\n",
              "48118  2017-06-30 22:00:00         4        22  20170630224\n",
              "48119  2017-06-30 23:00:00         4        12  20170630234"
            ]
          },
          "metadata": {},
          "execution_count": 40
        }
      ]
    },
    {
      "cell_type": "code",
      "source": [
        "train.describe()"
      ],
      "metadata": {
        "colab": {
          "base_uri": "https://localhost:8080/",
          "height": 300
        },
        "id": "bfu8GFgllOcO",
        "outputId": "ccbb15cc-47f6-4bf1-aa21-5971b22ec8d4"
      },
      "execution_count": null,
      "outputs": [
        {
          "output_type": "execute_result",
          "data": {
            "text/html": [
              "\n",
              "  <div id=\"df-94bb5202-2bac-4afb-8e67-2814bbeb04eb\">\n",
              "    <div class=\"colab-df-container\">\n",
              "      <div>\n",
              "<style scoped>\n",
              "    .dataframe tbody tr th:only-of-type {\n",
              "        vertical-align: middle;\n",
              "    }\n",
              "\n",
              "    .dataframe tbody tr th {\n",
              "        vertical-align: top;\n",
              "    }\n",
              "\n",
              "    .dataframe thead th {\n",
              "        text-align: right;\n",
              "    }\n",
              "</style>\n",
              "<table border=\"1\" class=\"dataframe\">\n",
              "  <thead>\n",
              "    <tr style=\"text-align: right;\">\n",
              "      <th></th>\n",
              "      <th>Junction</th>\n",
              "      <th>Vehicles</th>\n",
              "      <th>ID</th>\n",
              "    </tr>\n",
              "  </thead>\n",
              "  <tbody>\n",
              "    <tr>\n",
              "      <th>count</th>\n",
              "      <td>48120.000000</td>\n",
              "      <td>48120.000000</td>\n",
              "      <td>4.812000e+04</td>\n",
              "    </tr>\n",
              "    <tr>\n",
              "      <th>mean</th>\n",
              "      <td>2.180549</td>\n",
              "      <td>22.791334</td>\n",
              "      <td>2.016330e+10</td>\n",
              "    </tr>\n",
              "    <tr>\n",
              "      <th>std</th>\n",
              "      <td>0.966955</td>\n",
              "      <td>20.750063</td>\n",
              "      <td>5.944854e+06</td>\n",
              "    </tr>\n",
              "    <tr>\n",
              "      <th>min</th>\n",
              "      <td>1.000000</td>\n",
              "      <td>1.000000</td>\n",
              "      <td>2.015110e+10</td>\n",
              "    </tr>\n",
              "    <tr>\n",
              "      <th>25%</th>\n",
              "      <td>1.000000</td>\n",
              "      <td>9.000000</td>\n",
              "      <td>2.016042e+10</td>\n",
              "    </tr>\n",
              "    <tr>\n",
              "      <th>50%</th>\n",
              "      <td>2.000000</td>\n",
              "      <td>15.000000</td>\n",
              "      <td>2.016093e+10</td>\n",
              "    </tr>\n",
              "    <tr>\n",
              "      <th>75%</th>\n",
              "      <td>3.000000</td>\n",
              "      <td>29.000000</td>\n",
              "      <td>2.017023e+10</td>\n",
              "    </tr>\n",
              "    <tr>\n",
              "      <th>max</th>\n",
              "      <td>4.000000</td>\n",
              "      <td>180.000000</td>\n",
              "      <td>2.017063e+10</td>\n",
              "    </tr>\n",
              "  </tbody>\n",
              "</table>\n",
              "</div>\n",
              "      <button class=\"colab-df-convert\" onclick=\"convertToInteractive('df-94bb5202-2bac-4afb-8e67-2814bbeb04eb')\"\n",
              "              title=\"Convert this dataframe to an interactive table.\"\n",
              "              style=\"display:none;\">\n",
              "        \n",
              "  <svg xmlns=\"http://www.w3.org/2000/svg\" height=\"24px\"viewBox=\"0 0 24 24\"\n",
              "       width=\"24px\">\n",
              "    <path d=\"M0 0h24v24H0V0z\" fill=\"none\"/>\n",
              "    <path d=\"M18.56 5.44l.94 2.06.94-2.06 2.06-.94-2.06-.94-.94-2.06-.94 2.06-2.06.94zm-11 1L8.5 8.5l.94-2.06 2.06-.94-2.06-.94L8.5 2.5l-.94 2.06-2.06.94zm10 10l.94 2.06.94-2.06 2.06-.94-2.06-.94-.94-2.06-.94 2.06-2.06.94z\"/><path d=\"M17.41 7.96l-1.37-1.37c-.4-.4-.92-.59-1.43-.59-.52 0-1.04.2-1.43.59L10.3 9.45l-7.72 7.72c-.78.78-.78 2.05 0 2.83L4 21.41c.39.39.9.59 1.41.59.51 0 1.02-.2 1.41-.59l7.78-7.78 2.81-2.81c.8-.78.8-2.07 0-2.86zM5.41 20L4 18.59l7.72-7.72 1.47 1.35L5.41 20z\"/>\n",
              "  </svg>\n",
              "      </button>\n",
              "      \n",
              "  <style>\n",
              "    .colab-df-container {\n",
              "      display:flex;\n",
              "      flex-wrap:wrap;\n",
              "      gap: 12px;\n",
              "    }\n",
              "\n",
              "    .colab-df-convert {\n",
              "      background-color: #E8F0FE;\n",
              "      border: none;\n",
              "      border-radius: 50%;\n",
              "      cursor: pointer;\n",
              "      display: none;\n",
              "      fill: #1967D2;\n",
              "      height: 32px;\n",
              "      padding: 0 0 0 0;\n",
              "      width: 32px;\n",
              "    }\n",
              "\n",
              "    .colab-df-convert:hover {\n",
              "      background-color: #E2EBFA;\n",
              "      box-shadow: 0px 1px 2px rgba(60, 64, 67, 0.3), 0px 1px 3px 1px rgba(60, 64, 67, 0.15);\n",
              "      fill: #174EA6;\n",
              "    }\n",
              "\n",
              "    [theme=dark] .colab-df-convert {\n",
              "      background-color: #3B4455;\n",
              "      fill: #D2E3FC;\n",
              "    }\n",
              "\n",
              "    [theme=dark] .colab-df-convert:hover {\n",
              "      background-color: #434B5C;\n",
              "      box-shadow: 0px 1px 3px 1px rgba(0, 0, 0, 0.15);\n",
              "      filter: drop-shadow(0px 1px 2px rgba(0, 0, 0, 0.3));\n",
              "      fill: #FFFFFF;\n",
              "    }\n",
              "  </style>\n",
              "\n",
              "      <script>\n",
              "        const buttonEl =\n",
              "          document.querySelector('#df-94bb5202-2bac-4afb-8e67-2814bbeb04eb button.colab-df-convert');\n",
              "        buttonEl.style.display =\n",
              "          google.colab.kernel.accessAllowed ? 'block' : 'none';\n",
              "\n",
              "        async function convertToInteractive(key) {\n",
              "          const element = document.querySelector('#df-94bb5202-2bac-4afb-8e67-2814bbeb04eb');\n",
              "          const dataTable =\n",
              "            await google.colab.kernel.invokeFunction('convertToInteractive',\n",
              "                                                     [key], {});\n",
              "          if (!dataTable) return;\n",
              "\n",
              "          const docLinkHtml = 'Like what you see? Visit the ' +\n",
              "            '<a target=\"_blank\" href=https://colab.research.google.com/notebooks/data_table.ipynb>data table notebook</a>'\n",
              "            + ' to learn more about interactive tables.';\n",
              "          element.innerHTML = '';\n",
              "          dataTable['output_type'] = 'display_data';\n",
              "          await google.colab.output.renderOutput(dataTable, element);\n",
              "          const docLink = document.createElement('div');\n",
              "          docLink.innerHTML = docLinkHtml;\n",
              "          element.appendChild(docLink);\n",
              "        }\n",
              "      </script>\n",
              "    </div>\n",
              "  </div>\n",
              "  "
            ],
            "text/plain": [
              "           Junction      Vehicles            ID\n",
              "count  48120.000000  48120.000000  4.812000e+04\n",
              "mean       2.180549     22.791334  2.016330e+10\n",
              "std        0.966955     20.750063  5.944854e+06\n",
              "min        1.000000      1.000000  2.015110e+10\n",
              "25%        1.000000      9.000000  2.016042e+10\n",
              "50%        2.000000     15.000000  2.016093e+10\n",
              "75%        3.000000     29.000000  2.017023e+10\n",
              "max        4.000000    180.000000  2.017063e+10"
            ]
          },
          "metadata": {},
          "execution_count": 41
        }
      ]
    },
    {
      "cell_type": "code",
      "source": [
        "train.DateTime.describe()"
      ],
      "metadata": {
        "colab": {
          "base_uri": "https://localhost:8080/"
        },
        "id": "-7zcXQK6lQkW",
        "outputId": "bed8a5fc-b3fd-40a6-9f7d-82eed8859c3b"
      },
      "execution_count": null,
      "outputs": [
        {
          "output_type": "execute_result",
          "data": {
            "text/plain": [
              "count                   48120\n",
              "unique                  14592\n",
              "top       2017-06-30 23:00:00\n",
              "freq                        4\n",
              "Name: DateTime, dtype: object"
            ]
          },
          "metadata": {},
          "execution_count": 42
        }
      ]
    },
    {
      "cell_type": "markdown",
      "source": [
        "##Basic Data Cleaning"
      ],
      "metadata": {
        "id": "dmd5L-W1ntii"
      }
    },
    {
      "cell_type": "markdown",
      "source": [
        "###Check for duplicated entries between train and test"
      ],
      "metadata": {
        "id": "w-CenxbknEQl"
      }
    },
    {
      "cell_type": "code",
      "source": [
        "# prevents data leakage\n",
        "# diff = pd.merge(test,train, how='outer')\n",
        "# diff[diff['ID'].duplicated()].count()"
      ],
      "metadata": {
        "id": "agZwlQSclbvn"
      },
      "execution_count": null,
      "outputs": []
    },
    {
      "cell_type": "markdown",
      "source": [
        "Drop ID columns"
      ],
      "metadata": {
        "id": "K6_hAdzOnlQc"
      }
    },
    {
      "cell_type": "code",
      "source": [
        "train.drop(['ID'], axis = 1, inplace=True)\n",
        "test.drop(['ID'], axis = 1, inplace=True)"
      ],
      "metadata": {
        "id": "8avtdIkEm9oH"
      },
      "execution_count": null,
      "outputs": []
    },
    {
      "cell_type": "markdown",
      "source": [
        "### Handle Missing Values"
      ],
      "metadata": {
        "id": "eedeCIhhnwKi"
      }
    },
    {
      "cell_type": "code",
      "source": [
        "# train.isna().any()"
      ],
      "metadata": {
        "id": "fD6PtAasoAFp"
      },
      "execution_count": null,
      "outputs": []
    },
    {
      "cell_type": "markdown",
      "source": [
        "###Transform DateTime "
      ],
      "metadata": {
        "id": "84IxGXZjo3x1"
      }
    },
    {
      "cell_type": "code",
      "source": [
        "train['DateTime'] = pd.to_datetime(train['DateTime'])\n",
        "test['DateTime'] = pd.to_datetime(test['DateTime'])\n",
        "\n",
        "train.set_index('DateTime')\n",
        "test.set_index('DateTime')"
      ],
      "metadata": {
        "id": "7AAgsov1rIlN",
        "colab": {
          "base_uri": "https://localhost:8080/"
        },
        "outputId": "29d3250b-40f3-4631-b9e9-11ab8bd99de5"
      },
      "execution_count": null,
      "outputs": [
        {
          "output_type": "execute_result",
          "data": {
            "text/html": [
              "\n",
              "  <div id=\"df-7416b8f8-921b-430e-8c9c-4aefbb91df79\">\n",
              "    <div class=\"colab-df-container\">\n",
              "      <div>\n",
              "<style scoped>\n",
              "    .dataframe tbody tr th:only-of-type {\n",
              "        vertical-align: middle;\n",
              "    }\n",
              "\n",
              "    .dataframe tbody tr th {\n",
              "        vertical-align: top;\n",
              "    }\n",
              "\n",
              "    .dataframe thead th {\n",
              "        text-align: right;\n",
              "    }\n",
              "</style>\n",
              "<table border=\"1\" class=\"dataframe\">\n",
              "  <thead>\n",
              "    <tr style=\"text-align: right;\">\n",
              "      <th></th>\n",
              "      <th>Junction</th>\n",
              "    </tr>\n",
              "    <tr>\n",
              "      <th>DateTime</th>\n",
              "      <th></th>\n",
              "    </tr>\n",
              "  </thead>\n",
              "  <tbody>\n",
              "    <tr>\n",
              "      <th>2017-07-01 00:00:00</th>\n",
              "      <td>1</td>\n",
              "    </tr>\n",
              "    <tr>\n",
              "      <th>2017-07-01 01:00:00</th>\n",
              "      <td>1</td>\n",
              "    </tr>\n",
              "    <tr>\n",
              "      <th>2017-07-01 02:00:00</th>\n",
              "      <td>1</td>\n",
              "    </tr>\n",
              "    <tr>\n",
              "      <th>2017-07-01 03:00:00</th>\n",
              "      <td>1</td>\n",
              "    </tr>\n",
              "    <tr>\n",
              "      <th>2017-07-01 04:00:00</th>\n",
              "      <td>1</td>\n",
              "    </tr>\n",
              "    <tr>\n",
              "      <th>...</th>\n",
              "      <td>...</td>\n",
              "    </tr>\n",
              "    <tr>\n",
              "      <th>2017-10-31 19:00:00</th>\n",
              "      <td>4</td>\n",
              "    </tr>\n",
              "    <tr>\n",
              "      <th>2017-10-31 20:00:00</th>\n",
              "      <td>4</td>\n",
              "    </tr>\n",
              "    <tr>\n",
              "      <th>2017-10-31 21:00:00</th>\n",
              "      <td>4</td>\n",
              "    </tr>\n",
              "    <tr>\n",
              "      <th>2017-10-31 22:00:00</th>\n",
              "      <td>4</td>\n",
              "    </tr>\n",
              "    <tr>\n",
              "      <th>2017-10-31 23:00:00</th>\n",
              "      <td>4</td>\n",
              "    </tr>\n",
              "  </tbody>\n",
              "</table>\n",
              "<p>11808 rows × 1 columns</p>\n",
              "</div>\n",
              "      <button class=\"colab-df-convert\" onclick=\"convertToInteractive('df-7416b8f8-921b-430e-8c9c-4aefbb91df79')\"\n",
              "              title=\"Convert this dataframe to an interactive table.\"\n",
              "              style=\"display:none;\">\n",
              "        \n",
              "  <svg xmlns=\"http://www.w3.org/2000/svg\" height=\"24px\"viewBox=\"0 0 24 24\"\n",
              "       width=\"24px\">\n",
              "    <path d=\"M0 0h24v24H0V0z\" fill=\"none\"/>\n",
              "    <path d=\"M18.56 5.44l.94 2.06.94-2.06 2.06-.94-2.06-.94-.94-2.06-.94 2.06-2.06.94zm-11 1L8.5 8.5l.94-2.06 2.06-.94-2.06-.94L8.5 2.5l-.94 2.06-2.06.94zm10 10l.94 2.06.94-2.06 2.06-.94-2.06-.94-.94-2.06-.94 2.06-2.06.94z\"/><path d=\"M17.41 7.96l-1.37-1.37c-.4-.4-.92-.59-1.43-.59-.52 0-1.04.2-1.43.59L10.3 9.45l-7.72 7.72c-.78.78-.78 2.05 0 2.83L4 21.41c.39.39.9.59 1.41.59.51 0 1.02-.2 1.41-.59l7.78-7.78 2.81-2.81c.8-.78.8-2.07 0-2.86zM5.41 20L4 18.59l7.72-7.72 1.47 1.35L5.41 20z\"/>\n",
              "  </svg>\n",
              "      </button>\n",
              "      \n",
              "  <style>\n",
              "    .colab-df-container {\n",
              "      display:flex;\n",
              "      flex-wrap:wrap;\n",
              "      gap: 12px;\n",
              "    }\n",
              "\n",
              "    .colab-df-convert {\n",
              "      background-color: #E8F0FE;\n",
              "      border: none;\n",
              "      border-radius: 50%;\n",
              "      cursor: pointer;\n",
              "      display: none;\n",
              "      fill: #1967D2;\n",
              "      height: 32px;\n",
              "      padding: 0 0 0 0;\n",
              "      width: 32px;\n",
              "    }\n",
              "\n",
              "    .colab-df-convert:hover {\n",
              "      background-color: #E2EBFA;\n",
              "      box-shadow: 0px 1px 2px rgba(60, 64, 67, 0.3), 0px 1px 3px 1px rgba(60, 64, 67, 0.15);\n",
              "      fill: #174EA6;\n",
              "    }\n",
              "\n",
              "    [theme=dark] .colab-df-convert {\n",
              "      background-color: #3B4455;\n",
              "      fill: #D2E3FC;\n",
              "    }\n",
              "\n",
              "    [theme=dark] .colab-df-convert:hover {\n",
              "      background-color: #434B5C;\n",
              "      box-shadow: 0px 1px 3px 1px rgba(0, 0, 0, 0.15);\n",
              "      filter: drop-shadow(0px 1px 2px rgba(0, 0, 0, 0.3));\n",
              "      fill: #FFFFFF;\n",
              "    }\n",
              "  </style>\n",
              "\n",
              "      <script>\n",
              "        const buttonEl =\n",
              "          document.querySelector('#df-7416b8f8-921b-430e-8c9c-4aefbb91df79 button.colab-df-convert');\n",
              "        buttonEl.style.display =\n",
              "          google.colab.kernel.accessAllowed ? 'block' : 'none';\n",
              "\n",
              "        async function convertToInteractive(key) {\n",
              "          const element = document.querySelector('#df-7416b8f8-921b-430e-8c9c-4aefbb91df79');\n",
              "          const dataTable =\n",
              "            await google.colab.kernel.invokeFunction('convertToInteractive',\n",
              "                                                     [key], {});\n",
              "          if (!dataTable) return;\n",
              "\n",
              "          const docLinkHtml = 'Like what you see? Visit the ' +\n",
              "            '<a target=\"_blank\" href=https://colab.research.google.com/notebooks/data_table.ipynb>data table notebook</a>'\n",
              "            + ' to learn more about interactive tables.';\n",
              "          element.innerHTML = '';\n",
              "          dataTable['output_type'] = 'display_data';\n",
              "          await google.colab.output.renderOutput(dataTable, element);\n",
              "          const docLink = document.createElement('div');\n",
              "          docLink.innerHTML = docLinkHtml;\n",
              "          element.appendChild(docLink);\n",
              "        }\n",
              "      </script>\n",
              "    </div>\n",
              "  </div>\n",
              "  "
            ],
            "text/plain": [
              "                     Junction\n",
              "DateTime                     \n",
              "2017-07-01 00:00:00         1\n",
              "2017-07-01 01:00:00         1\n",
              "2017-07-01 02:00:00         1\n",
              "2017-07-01 03:00:00         1\n",
              "2017-07-01 04:00:00         1\n",
              "...                       ...\n",
              "2017-10-31 19:00:00         4\n",
              "2017-10-31 20:00:00         4\n",
              "2017-10-31 21:00:00         4\n",
              "2017-10-31 22:00:00         4\n",
              "2017-10-31 23:00:00         4\n",
              "\n",
              "[11808 rows x 1 columns]"
            ]
          },
          "metadata": {},
          "execution_count": 203
        }
      ]
    },
    {
      "cell_type": "markdown",
      "source": [
        "##A First Look at Our Target Variable"
      ],
      "metadata": {
        "id": "YjHDgzqGwKHu"
      }
    },
    {
      "cell_type": "markdown",
      "source": [
        "###Difference Across Time Frequencies"
      ],
      "metadata": {
        "id": "43T26SZZ8-GJ"
      }
    },
    {
      "cell_type": "code",
      "source": [
        "\"\"\"\n",
        "# Resampling to daily frequency\n",
        "train_day = train.resample('D').mean()\n",
        "\n",
        "# Resampling to monthly frequency\n",
        "train_month = train.resample('M').mean()\n",
        "\n",
        "# Resampling to annual frequency\n",
        "train_year = train.resample('A-DEC').mean()\n",
        "\n",
        "# Resampling to quarterly frequency\n",
        "train_Q = train.resample('Q-DEC').mean()"
      ],
      "metadata": {
        "id": "Ub-aciRm_ctO"
      },
      "execution_count": null,
      "outputs": []
    },
    {
      "cell_type": "code",
      "source": [
        "\"\"\"\n",
        "train_hour = train[train.index < \n",
        "                   pd.to_datetime('2015-11-03')].resample('H').mean()\n",
        "train_hour.head()"
      ],
      "metadata": {
        "colab": {
          "base_uri": "https://localhost:8080/",
          "height": 238
        },
        "id": "9I1c63CgFGp1",
        "outputId": "955f8bc5-c45a-4911-ccbe-8a8f31904ea9"
      },
      "execution_count": null,
      "outputs": [
        {
          "output_type": "execute_result",
          "data": {
            "text/html": [
              "\n",
              "  <div id=\"df-9217f4aa-d8c8-4800-b204-c62f91538016\">\n",
              "    <div class=\"colab-df-container\">\n",
              "      <div>\n",
              "<style scoped>\n",
              "    .dataframe tbody tr th:only-of-type {\n",
              "        vertical-align: middle;\n",
              "    }\n",
              "\n",
              "    .dataframe tbody tr th {\n",
              "        vertical-align: top;\n",
              "    }\n",
              "\n",
              "    .dataframe thead th {\n",
              "        text-align: right;\n",
              "    }\n",
              "</style>\n",
              "<table border=\"1\" class=\"dataframe\">\n",
              "  <thead>\n",
              "    <tr style=\"text-align: right;\">\n",
              "      <th></th>\n",
              "      <th>Vehicles</th>\n",
              "    </tr>\n",
              "    <tr>\n",
              "      <th>DateTime</th>\n",
              "      <th></th>\n",
              "    </tr>\n",
              "  </thead>\n",
              "  <tbody>\n",
              "    <tr>\n",
              "      <th>2015-11-01 00:00:00</th>\n",
              "      <td>10.000000</td>\n",
              "    </tr>\n",
              "    <tr>\n",
              "      <th>2015-11-01 01:00:00</th>\n",
              "      <td>8.666667</td>\n",
              "    </tr>\n",
              "    <tr>\n",
              "      <th>2015-11-01 02:00:00</th>\n",
              "      <td>6.666667</td>\n",
              "    </tr>\n",
              "    <tr>\n",
              "      <th>2015-11-01 03:00:00</th>\n",
              "      <td>4.666667</td>\n",
              "    </tr>\n",
              "    <tr>\n",
              "      <th>2015-11-01 04:00:00</th>\n",
              "      <td>6.000000</td>\n",
              "    </tr>\n",
              "  </tbody>\n",
              "</table>\n",
              "</div>\n",
              "      <button class=\"colab-df-convert\" onclick=\"convertToInteractive('df-9217f4aa-d8c8-4800-b204-c62f91538016')\"\n",
              "              title=\"Convert this dataframe to an interactive table.\"\n",
              "              style=\"display:none;\">\n",
              "        \n",
              "  <svg xmlns=\"http://www.w3.org/2000/svg\" height=\"24px\"viewBox=\"0 0 24 24\"\n",
              "       width=\"24px\">\n",
              "    <path d=\"M0 0h24v24H0V0z\" fill=\"none\"/>\n",
              "    <path d=\"M18.56 5.44l.94 2.06.94-2.06 2.06-.94-2.06-.94-.94-2.06-.94 2.06-2.06.94zm-11 1L8.5 8.5l.94-2.06 2.06-.94-2.06-.94L8.5 2.5l-.94 2.06-2.06.94zm10 10l.94 2.06.94-2.06 2.06-.94-2.06-.94-.94-2.06-.94 2.06-2.06.94z\"/><path d=\"M17.41 7.96l-1.37-1.37c-.4-.4-.92-.59-1.43-.59-.52 0-1.04.2-1.43.59L10.3 9.45l-7.72 7.72c-.78.78-.78 2.05 0 2.83L4 21.41c.39.39.9.59 1.41.59.51 0 1.02-.2 1.41-.59l7.78-7.78 2.81-2.81c.8-.78.8-2.07 0-2.86zM5.41 20L4 18.59l7.72-7.72 1.47 1.35L5.41 20z\"/>\n",
              "  </svg>\n",
              "      </button>\n",
              "      \n",
              "  <style>\n",
              "    .colab-df-container {\n",
              "      display:flex;\n",
              "      flex-wrap:wrap;\n",
              "      gap: 12px;\n",
              "    }\n",
              "\n",
              "    .colab-df-convert {\n",
              "      background-color: #E8F0FE;\n",
              "      border: none;\n",
              "      border-radius: 50%;\n",
              "      cursor: pointer;\n",
              "      display: none;\n",
              "      fill: #1967D2;\n",
              "      height: 32px;\n",
              "      padding: 0 0 0 0;\n",
              "      width: 32px;\n",
              "    }\n",
              "\n",
              "    .colab-df-convert:hover {\n",
              "      background-color: #E2EBFA;\n",
              "      box-shadow: 0px 1px 2px rgba(60, 64, 67, 0.3), 0px 1px 3px 1px rgba(60, 64, 67, 0.15);\n",
              "      fill: #174EA6;\n",
              "    }\n",
              "\n",
              "    [theme=dark] .colab-df-convert {\n",
              "      background-color: #3B4455;\n",
              "      fill: #D2E3FC;\n",
              "    }\n",
              "\n",
              "    [theme=dark] .colab-df-convert:hover {\n",
              "      background-color: #434B5C;\n",
              "      box-shadow: 0px 1px 3px 1px rgba(0, 0, 0, 0.15);\n",
              "      filter: drop-shadow(0px 1px 2px rgba(0, 0, 0, 0.3));\n",
              "      fill: #FFFFFF;\n",
              "    }\n",
              "  </style>\n",
              "\n",
              "      <script>\n",
              "        const buttonEl =\n",
              "          document.querySelector('#df-9217f4aa-d8c8-4800-b204-c62f91538016 button.colab-df-convert');\n",
              "        buttonEl.style.display =\n",
              "          google.colab.kernel.accessAllowed ? 'block' : 'none';\n",
              "\n",
              "        async function convertToInteractive(key) {\n",
              "          const element = document.querySelector('#df-9217f4aa-d8c8-4800-b204-c62f91538016');\n",
              "          const dataTable =\n",
              "            await google.colab.kernel.invokeFunction('convertToInteractive',\n",
              "                                                     [key], {});\n",
              "          if (!dataTable) return;\n",
              "\n",
              "          const docLinkHtml = 'Like what you see? Visit the ' +\n",
              "            '<a target=\"_blank\" href=https://colab.research.google.com/notebooks/data_table.ipynb>data table notebook</a>'\n",
              "            + ' to learn more about interactive tables.';\n",
              "          element.innerHTML = '';\n",
              "          dataTable['output_type'] = 'display_data';\n",
              "          await google.colab.output.renderOutput(dataTable, element);\n",
              "          const docLink = document.createElement('div');\n",
              "          docLink.innerHTML = docLinkHtml;\n",
              "          element.appendChild(docLink);\n",
              "        }\n",
              "      </script>\n",
              "    </div>\n",
              "  </div>\n",
              "  "
            ],
            "text/plain": [
              "                      Vehicles\n",
              "DateTime                      \n",
              "2015-11-01 00:00:00  10.000000\n",
              "2015-11-01 01:00:00   8.666667\n",
              "2015-11-01 02:00:00   6.666667\n",
              "2015-11-01 03:00:00   4.666667\n",
              "2015-11-01 04:00:00   6.000000"
            ]
          },
          "metadata": {},
          "execution_count": 20
        }
      ]
    },
    {
      "cell_type": "code",
      "source": [
        "# PLOTS\n",
        "\"\"\"\n",
        "fig = plt.figure(figsize=[17, 7])\n",
        "plt.suptitle('Vehicles counts', fontsize=22)\n",
        "\n",
        "plt.subplot(325)\n",
        "plt.plot(train_hour.Vehicles, '-', label='By Hours')\n",
        "plt.legend()\n",
        "\n",
        "plt.subplot(321)\n",
        "plt.plot(train_day.Vehicles, '-', label='By Days')\n",
        "plt.legend()\n",
        "\n",
        "plt.subplot(322)\n",
        "plt.plot(train_month.Vehicles, '-', label='By Months')\n",
        "plt.legend()\n",
        "\n",
        "plt.subplot(323)\n",
        "plt.plot(train_Q.Vehicles, '-', label='By Quarters')\n",
        "plt.legend()\n",
        "\n",
        "plt.subplot(324)\n",
        "plt.plot(train_year.Vehicles, '-', label='By Years')\n",
        "plt.legend()\n",
        "\n",
        "\n",
        "# plt.tight_layout()\n",
        "plt.show()\n",
        "\"\"\""
      ],
      "metadata": {
        "colab": {
          "base_uri": "https://localhost:8080/",
          "height": 479
        },
        "id": "m5tzkZ5uCT0j",
        "outputId": "ea363b9a-bf4b-4e48-bab7-c54c92c584e0"
      },
      "execution_count": null,
      "outputs": [
        {
          "output_type": "display_data",
          "data": {
            "image/png": "[encoded data removed]",
            "text/plain": [
              "<Figure size 1224x504 with 5 Axes>"
            ]
          },
          "metadata": {
            "needs_background": "light"
          }
        }
      ]
    },
    {
      "cell_type": "markdown",
      "source": [
        "### Difference Across Junctions\n",
        "As stated in the prompt each junction collect data differently, so we graph the data collected in each junction to see how much they differ and decide if we should model each differently.\n"
      ],
      "metadata": {
        "id": "F0ktBfBy2xE5"
      }
    },
    {
      "cell_type": "code",
      "source": [
        "# create different df for each junction\n",
        "train_j1 = train[train['Junction']==1].copy()\n",
        "train_j2 = train[train['Junction']==2].copy()\n",
        "train_j3 = train[train['Junction']==3].copy()\n",
        "train_j4 = train[train['Junction']==4].copy()\n",
        "\n",
        "train_j1.drop(['Junction'],axis=1,inplace=True)\n",
        "train_j2.drop(['Junction'],axis=1,inplace=True)\n",
        "train_j3.drop(['Junction'],axis=1,inplace=True)\n",
        "train_j4.drop(['Junction'],axis=1,inplace=True)"
      ],
      "metadata": {
        "id": "zC3-k5jt0p01"
      },
      "execution_count": null,
      "outputs": []
    },
    {
      "cell_type": "code",
      "source": [
        "# Plot the data for each model \n",
        "\"\"\"\n",
        "fig = plt.figure(figsize=[17, 7])\n",
        "plt.suptitle('Vehicles counts by Junction', fontsize=22)\n",
        "\n",
        "plt.subplot(221)\n",
        "plt.plot(train_j1.Vehicles, '-', label='Junction 1')\n",
        "plt.legend()\n",
        "\n",
        "plt.subplot(222)\n",
        "plt.plot(train_j2.Vehicles, '-', label='Junction 2')\n",
        "plt.legend()\n",
        "\n",
        "plt.subplot(223)\n",
        "plt.plot(train_j3.Vehicles, '-', label='Junction 3')\n",
        "plt.legend()\n",
        "\n",
        "plt.subplot(224)\n",
        "plt.plot(train_j4.Vehicles, '-', label='Junction 2')\n",
        "plt.legend()\n",
        "\n",
        "plt.show()"
      ],
      "metadata": {
        "colab": {
          "base_uri": "https://localhost:8080/",
          "height": 389
        },
        "id": "rwoMd9gaYEih",
        "outputId": "3ec3dd2e-d8bb-4bfa-85d9-4d85d08e58fd"
      },
      "execution_count": null,
      "outputs": [
        {
          "output_type": "display_data",
          "data": {
            "image/png": "[encoded data removed]",
            "text/plain": [
              "<Figure size 1224x504 with 4 Axes>"
            ]
          },
          "metadata": {
            "needs_background": "light"
          }
        }
      ]
    },
    {
      "cell_type": "markdown",
      "source": [
        " Since the data differ without certain pattern, we will do forecasting for each junction seperately. \n",
        "\n",
        "We need to also split the test data."
      ],
      "metadata": {
        "id": "7gjSpx4Uk_4o"
      }
    },
    {
      "cell_type": "code",
      "source": [
        "# Split test data by junctions\n",
        "test_j1 = test[test['Junction']==1].copy()\n",
        "test_j2 = test[test['Junction']==2].copy()\n",
        "test_j3 = test[test['Junction']==3].copy()\n",
        "test_j4 = test[test['Junction']==4].copy()\n",
        "\n",
        "test_j1.drop(['Junction'],axis=1,inplace=True)\n",
        "test_j2.drop(['Junction'],axis=1,inplace=True)\n",
        "test_j3.drop(['Junction'],axis=1,inplace=True)\n",
        "test_j4.drop(['Junction'],axis=1,inplace=True)"
      ],
      "metadata": {
        "id": "X7NcrVyFB5F0"
      },
      "execution_count": null,
      "outputs": []
    },
    {
      "cell_type": "markdown",
      "source": [
        "##Feature Engineering "
      ],
      "metadata": {
        "id": "KZFEamtPozOg"
      }
    },
    {
      "cell_type": "markdown",
      "source": [
        "###Create Features\n",
        "The goal is to analyze the traffic pattern\n",
        " * [x] across 4 junctions\n",
        " * [ ] on holidays\n",
        " * [ ] workdays\n"
      ],
      "metadata": {
        "id": "mEHW3igptW_a"
      }
    },
    {
      "cell_type": "code",
      "source": [
        "def createTimeFeatures(data):\n",
        "    data['Weekday'] = [datetime.weekday(date) for date in data.DateTime]\n",
        "    data['Year'] = [date.year for date in data.DateTime]\n",
        "    data['Month'] = [date.month for date in data.DateTime]\n",
        "    data['Day'] = [date.day for date in data.DateTime]\n",
        "    data['Hour'] = [date.hour for date in data.DateTime]\n",
        "    data['Week'] = [date.week for date in data.DateTime]\n",
        "    data['Quarter'] = [date.quarter for date in data.DateTime]"
      ],
      "metadata": {
        "id": "1QaDtGOItzag"
      },
      "execution_count": null,
      "outputs": []
    },
    {
      "cell_type": "code",
      "source": [
        "# Create Time Features for each dataset\n",
        "createTimeFeatures(train_j1)\n",
        "createTimeFeatures(train_j2)\n",
        "createTimeFeatures(train_j3)\n",
        "createTimeFeatures(train_j4)\n",
        "\n",
        "createTimeFeatures(test)"
      ],
      "metadata": {
        "id": "vXYlmV3vupQ-"
      },
      "execution_count": null,
      "outputs": []
    },
    {
      "cell_type": "code",
      "source": [
        "# Drop DateeTime column\n",
        "dfs = [train_j1,train_j2,train_j3,train_j4,\n",
        "       test_j1,test_j2,test_j3,test_j4]\n",
        "for df in dfs:\n",
        "  df.drop(['DateTime'],axis=1,inplace=True)"
      ],
      "metadata": {
        "id": "GvStBdlPlfDe"
      },
      "execution_count": null,
      "outputs": []
    },
    {
      "cell_type": "markdown",
      "source": [
        "#Modelling\n"
      ],
      "metadata": {
        "id": "S7l_ktRdd0rL"
      }
    },
    {
      "cell_type": "markdown",
      "source": [
        "## Initial Model selection\n",
        "On junction 1 only "
      ],
      "metadata": {
        "id": "dQX_7kybgOeS"
      }
    },
    {
      "cell_type": "markdown",
      "source": [
        "####Evaluation\n",
        "\n",
        "$\\text{MSE}(y, \\hat{y}) = \\frac{1}{n_\\text{samples}} \\sum_{i=0}^{n_\\text{samples} - 1} (y_i - \\hat{y}_i)^2.$\n",
        "\n",
        "$R^2(y, \\hat{y}) = 1 - \\frac{\\sum_{i=1}^{n} (y_i - \\hat{y}_i)^2}{\\sum_{i=1}^{n} (y_i - \\bar{y})^2}$"
      ],
      "metadata": {
        "id": "kiTd7ppsNoa8"
      }
    },
    {
      "cell_type": "code",
      "source": [
        "def regressEval(real,pred,model):\n",
        "  mae = mean_absolute_error(real,pred)\n",
        "  print(\"The Meas Absolute Value of {} is {}\".format(model, mae))\n",
        "  mse = mean_squared_error(real,pred)\n",
        "  print(\"The Meas Squared Value of the {} is {}\".format(model,mse))\n",
        "  rsqr = r2_score(real,pred)\n",
        "  print(\"The R square score of the {} is {}\".format(model,rsqr))"
      ],
      "metadata": {
        "id": "f71TQCfbLrDe"
      },
      "execution_count": null,
      "outputs": []
    },
    {
      "cell_type": "markdown",
      "source": [
        "### Linear Regressoion"
      ],
      "metadata": {
        "id": "-Rz485ijd3VC"
      }
    },
    {
      "cell_type": "code",
      "source": [
        "\"\"\"\n",
        "train, test = train_test_split(train_j1,test_size=0.2)\n",
        "X = train.drop(['Vehicles'], axis = 1)\n",
        "Y = train['Vehicles']\n",
        "x_test = test.drop(['Vehicles'], axis = 1)\n",
        "y_test = test['Vehicles']\n",
        "\"\"\""
      ],
      "metadata": {
        "id": "9HAlMZ-xyZOw"
      },
      "execution_count": null,
      "outputs": []
    },
    {
      "cell_type": "code",
      "source": [
        "# Train and Fit \n",
        "reg = LinearRegression()\n",
        "reg.fit(X,Y)\n",
        "# make predictions\n",
        "reg_pred = reg.predict(x_test)"
      ],
      "metadata": {
        "id": "O8EK_xHyLE-q"
      },
      "execution_count": null,
      "outputs": []
    },
    {
      "cell_type": "code",
      "source": [
        "regressEval(y_test,reg_pred, 'Linear Regression 4')"
      ],
      "metadata": {
        "colab": {
          "base_uri": "https://localhost:8080/"
        },
        "id": "VEmu0KwhLafO",
        "outputId": "501ef88b-5d4e-4af2-c967-f2c30353435f"
      },
      "execution_count": null,
      "outputs": [
        {
          "output_type": "stream",
          "name": "stdout",
          "text": [
            "The Meas Absolute Value of Linear Regression 4 is 2.219164711311484\n",
            "The Meas Squared Value of the Linear Regression 4 is 9.557593614290715\n",
            "The R square score of the Linear Regression 4 is 0.263589705228493\n"
          ]
        }
      ]
    },
    {
      "cell_type": "markdown",
      "source": [
        "###Gaussian Process Regressor(GPR)\n"
      ],
      "metadata": {
        "id": "P_KGpQLxbZu8"
      }
    },
    {
      "cell_type": "code",
      "source": [
        "\n",
        "gpr = GaussianProcessRegressor(random_state = 0)\n",
        "gpr.fit(X,Y)\n",
        "\n",
        "gpr_pred = gpr.predict(x_test)\n"
      ],
      "metadata": {
        "id": "X5prnfjobr2D"
      },
      "execution_count": null,
      "outputs": []
    },
    {
      "cell_type": "code",
      "source": [
        "regressEval(y_test,gpr_pred, 'GPR_J4')"
      ],
      "metadata": {
        "colab": {
          "base_uri": "https://localhost:8080/"
        },
        "outputId": "645875c0-4bf4-4101-f182-636013966a92",
        "id": "XFai25C2cF1c"
      },
      "execution_count": null,
      "outputs": [
        {
          "output_type": "stream",
          "name": "stdout",
          "text": [
            "The Meas Absolute Value of GPR_J4 is 2.6434012307327075\n",
            "The Meas Squared Value of the GPR_J4 is 11.706352302827447\n",
            "The R square score of the GPR_J4 is 0.0980283638410353\n"
          ]
        }
      ]
    },
    {
      "cell_type": "markdown",
      "source": [
        "### XGBRegressor"
      ],
      "metadata": {
        "id": "kRNymcovc8Mp"
      }
    },
    {
      "cell_type": "code",
      "source": [
        "\"\"\"\n",
        "xgbr = XGBRegressor(random_state=0,verbosity=0)\n",
        "xgbr.fit(X,Y)\n",
        "\n",
        "xgbr_pred = xgbr.predict(x_test)\n",
        "\"\"\""
      ],
      "metadata": {
        "id": "ld8y_0sVc_JJ"
      },
      "execution_count": null,
      "outputs": []
    },
    {
      "cell_type": "code",
      "source": [
        "#regressEval(y_test,xgbr_pred, 'XGBR')"
      ],
      "metadata": {
        "colab": {
          "base_uri": "https://localhost:8080/"
        },
        "outputId": "4364fee2-9988-48de-e445-a6536c9a91a9",
        "id": "jmIrFPijfYC_"
      },
      "execution_count": null,
      "outputs": [
        {
          "output_type": "stream",
          "name": "stdout",
          "text": [
            "The Meas Absolute Value of XGBR is 4.149439620416268\n",
            "The Meas Squared Value of the XGBR is 33.163344822651645\n",
            "The R square score of the XGBR is 0.9386539753241014\n"
          ]
        }
      ]
    },
    {
      "cell_type": "markdown",
      "source": [
        "We will use XGBR for all four junctions since it performs significantly better than the other models. We might use simpler model on J3 because it does no show trend."
      ],
      "metadata": {
        "id": "GnkVrX0vfoEW"
      }
    },
    {
      "cell_type": "markdown",
      "source": [
        "## Final Models "
      ],
      "metadata": {
        "id": "qP8OqVRzgVJW"
      }
    },
    {
      "cell_type": "markdown",
      "source": [
        "### Junction 1 "
      ],
      "metadata": {
        "id": "7u1U8FFniEXk"
      }
    },
    {
      "cell_type": "code",
      "source": [
        "train_1, test_1 = train_test_split(train_j1,test_size=0.2)\n",
        "train_1.head()"
      ],
      "metadata": {
        "colab": {
          "base_uri": "https://localhost:8080/",
          "height": 206
        },
        "id": "OxHTP8QwiKOB",
        "outputId": "f77022bb-35f7-43a4-c894-c901ca6ae7af"
      },
      "execution_count": null,
      "outputs": [
        {
          "output_type": "execute_result",
          "data": {
            "text/html": [
              "\n",
              "  <div id=\"df-cecc622c-38a1-4f4a-bea1-e62b71484d68\">\n",
              "    <div class=\"colab-df-container\">\n",
              "      <div>\n",
              "<style scoped>\n",
              "    .dataframe tbody tr th:only-of-type {\n",
              "        vertical-align: middle;\n",
              "    }\n",
              "\n",
              "    .dataframe tbody tr th {\n",
              "        vertical-align: top;\n",
              "    }\n",
              "\n",
              "    .dataframe thead th {\n",
              "        text-align: right;\n",
              "    }\n",
              "</style>\n",
              "<table border=\"1\" class=\"dataframe\">\n",
              "  <thead>\n",
              "    <tr style=\"text-align: right;\">\n",
              "      <th></th>\n",
              "      <th>Vehicles</th>\n",
              "      <th>Weekday</th>\n",
              "      <th>Year</th>\n",
              "      <th>Month</th>\n",
              "      <th>Day</th>\n",
              "      <th>Hour</th>\n",
              "      <th>Week</th>\n",
              "      <th>Quarter</th>\n",
              "    </tr>\n",
              "  </thead>\n",
              "  <tbody>\n",
              "    <tr>\n",
              "      <th>11505</th>\n",
              "      <td>61</td>\n",
              "      <td>2</td>\n",
              "      <td>2017</td>\n",
              "      <td>2</td>\n",
              "      <td>22</td>\n",
              "      <td>9</td>\n",
              "      <td>8</td>\n",
              "      <td>1</td>\n",
              "    </tr>\n",
              "    <tr>\n",
              "      <th>820</th>\n",
              "      <td>15</td>\n",
              "      <td>5</td>\n",
              "      <td>2015</td>\n",
              "      <td>12</td>\n",
              "      <td>5</td>\n",
              "      <td>4</td>\n",
              "      <td>49</td>\n",
              "      <td>4</td>\n",
              "    </tr>\n",
              "    <tr>\n",
              "      <th>5889</th>\n",
              "      <td>21</td>\n",
              "      <td>6</td>\n",
              "      <td>2016</td>\n",
              "      <td>7</td>\n",
              "      <td>3</td>\n",
              "      <td>9</td>\n",
              "      <td>26</td>\n",
              "      <td>3</td>\n",
              "    </tr>\n",
              "    <tr>\n",
              "      <th>3695</th>\n",
              "      <td>32</td>\n",
              "      <td>5</td>\n",
              "      <td>2016</td>\n",
              "      <td>4</td>\n",
              "      <td>2</td>\n",
              "      <td>23</td>\n",
              "      <td>13</td>\n",
              "      <td>2</td>\n",
              "    </tr>\n",
              "    <tr>\n",
              "      <th>13054</th>\n",
              "      <td>79</td>\n",
              "      <td>3</td>\n",
              "      <td>2017</td>\n",
              "      <td>4</td>\n",
              "      <td>27</td>\n",
              "      <td>22</td>\n",
              "      <td>17</td>\n",
              "      <td>2</td>\n",
              "    </tr>\n",
              "  </tbody>\n",
              "</table>\n",
              "</div>\n",
              "      <button class=\"colab-df-convert\" onclick=\"convertToInteractive('df-cecc622c-38a1-4f4a-bea1-e62b71484d68')\"\n",
              "              title=\"Convert this dataframe to an interactive table.\"\n",
              "              style=\"display:none;\">\n",
              "        \n",
              "  <svg xmlns=\"http://www.w3.org/2000/svg\" height=\"24px\"viewBox=\"0 0 24 24\"\n",
              "       width=\"24px\">\n",
              "    <path d=\"M0 0h24v24H0V0z\" fill=\"none\"/>\n",
              "    <path d=\"M18.56 5.44l.94 2.06.94-2.06 2.06-.94-2.06-.94-.94-2.06-.94 2.06-2.06.94zm-11 1L8.5 8.5l.94-2.06 2.06-.94-2.06-.94L8.5 2.5l-.94 2.06-2.06.94zm10 10l.94 2.06.94-2.06 2.06-.94-2.06-.94-.94-2.06-.94 2.06-2.06.94z\"/><path d=\"M17.41 7.96l-1.37-1.37c-.4-.4-.92-.59-1.43-.59-.52 0-1.04.2-1.43.59L10.3 9.45l-7.72 7.72c-.78.78-.78 2.05 0 2.83L4 21.41c.39.39.9.59 1.41.59.51 0 1.02-.2 1.41-.59l7.78-7.78 2.81-2.81c.8-.78.8-2.07 0-2.86zM5.41 20L4 18.59l7.72-7.72 1.47 1.35L5.41 20z\"/>\n",
              "  </svg>\n",
              "      </button>\n",
              "      \n",
              "  <style>\n",
              "    .colab-df-container {\n",
              "      display:flex;\n",
              "      flex-wrap:wrap;\n",
              "      gap: 12px;\n",
              "    }\n",
              "\n",
              "    .colab-df-convert {\n",
              "      background-color: #E8F0FE;\n",
              "      border: none;\n",
              "      border-radius: 50%;\n",
              "      cursor: pointer;\n",
              "      display: none;\n",
              "      fill: #1967D2;\n",
              "      height: 32px;\n",
              "      padding: 0 0 0 0;\n",
              "      width: 32px;\n",
              "    }\n",
              "\n",
              "    .colab-df-convert:hover {\n",
              "      background-color: #E2EBFA;\n",
              "      box-shadow: 0px 1px 2px rgba(60, 64, 67, 0.3), 0px 1px 3px 1px rgba(60, 64, 67, 0.15);\n",
              "      fill: #174EA6;\n",
              "    }\n",
              "\n",
              "    [theme=dark] .colab-df-convert {\n",
              "      background-color: #3B4455;\n",
              "      fill: #D2E3FC;\n",
              "    }\n",
              "\n",
              "    [theme=dark] .colab-df-convert:hover {\n",
              "      background-color: #434B5C;\n",
              "      box-shadow: 0px 1px 3px 1px rgba(0, 0, 0, 0.15);\n",
              "      filter: drop-shadow(0px 1px 2px rgba(0, 0, 0, 0.3));\n",
              "      fill: #FFFFFF;\n",
              "    }\n",
              "  </style>\n",
              "\n",
              "      <script>\n",
              "        const buttonEl =\n",
              "          document.querySelector('#df-cecc622c-38a1-4f4a-bea1-e62b71484d68 button.colab-df-convert');\n",
              "        buttonEl.style.display =\n",
              "          google.colab.kernel.accessAllowed ? 'block' : 'none';\n",
              "\n",
              "        async function convertToInteractive(key) {\n",
              "          const element = document.querySelector('#df-cecc622c-38a1-4f4a-bea1-e62b71484d68');\n",
              "          const dataTable =\n",
              "            await google.colab.kernel.invokeFunction('convertToInteractive',\n",
              "                                                     [key], {});\n",
              "          if (!dataTable) return;\n",
              "\n",
              "          const docLinkHtml = 'Like what you see? Visit the ' +\n",
              "            '<a target=\"_blank\" href=https://colab.research.google.com/notebooks/data_table.ipynb>data table notebook</a>'\n",
              "            + ' to learn more about interactive tables.';\n",
              "          element.innerHTML = '';\n",
              "          dataTable['output_type'] = 'display_data';\n",
              "          await google.colab.output.renderOutput(dataTable, element);\n",
              "          const docLink = document.createElement('div');\n",
              "          docLink.innerHTML = docLinkHtml;\n",
              "          element.appendChild(docLink);\n",
              "        }\n",
              "      </script>\n",
              "    </div>\n",
              "  </div>\n",
              "  "
            ],
            "text/plain": [
              "       Vehicles  Weekday  Year  Month  Day  Hour  Week  Quarter\n",
              "11505        61        2  2017      2   22     9     8        1\n",
              "820          15        5  2015     12    5     4    49        4\n",
              "5889         21        6  2016      7    3     9    26        3\n",
              "3695         32        5  2016      4    2    23    13        2\n",
              "13054        79        3  2017      4   27    22    17        2"
            ]
          },
          "metadata": {},
          "execution_count": 216
        }
      ]
    },
    {
      "cell_type": "code",
      "source": [
        "X = train_1.drop(['Vehicles'], axis = 1)\n",
        "Y = train_1['Vehicles']\n",
        "x_test = test_1.drop(['Vehicles'], axis = 1)\n",
        "y_test = test_1['Vehicles']"
      ],
      "metadata": {
        "id": "mgakcuOWiDVS"
      },
      "execution_count": null,
      "outputs": []
    },
    {
      "cell_type": "code",
      "source": [
        "# Final Model for Junction 1 \n",
        "xgb_1 = XGBRegressor(n_estimators = 1000, \n",
        "                    learning_rate = 0.02,\n",
        "                    max_depth=8,\n",
        "                    min_child_weight=1,\n",
        "                    gamma=0.2,\n",
        "                    subsample=0.6,\n",
        "                    colsample_bytree=0.9,\n",
        "                    verbosity = 0,\n",
        "                    random_state=1)\n",
        "xgb_1.fit(X, Y, eval_set=[(X,Y),(x_test,y_test)],\n",
        "        early_stopping_rounds=30)"
      ],
      "metadata": {
        "id": "LuziM4apga9M"
      },
      "execution_count": null,
      "outputs": []
    },
    {
      "cell_type": "code",
      "source": [
        "xgb_pred_1 = xgb_1.predict(x_test)\n",
        "regressEval(y_test,xgb_pred_1, 'XGBR Junction 1')"
      ],
      "metadata": {
        "colab": {
          "base_uri": "https://localhost:8080/"
        },
        "id": "59gRmC8Yty1k",
        "outputId": "39f132ea-0cca-42a8-8783-c27bba51d904"
      },
      "execution_count": null,
      "outputs": [
        {
          "output_type": "stream",
          "name": "stdout",
          "text": [
            "The Meas Absolute Value of XGBR Junction 1 is 2.535276514408155\n",
            "The Meas Squared Value of the XGBR Junction 1 is 12.532513875206872\n",
            "The R square score of the XGBR Junction 1 is 0.9758642784017091\n"
          ]
        }
      ]
    },
    {
      "cell_type": "markdown",
      "source": [
        "Hyperparameter Tuning:"
      ],
      "metadata": {
        "id": "tRXT4IXgjVl5"
      }
    },
    {
      "cell_type": "code",
      "source": [
        "\"\"\"\n",
        "params = { \n",
        "    'max_depth' : range(2, 10, 2),\n",
        "    'min_child_weight' : range(1, 4, 2),\n",
        "    'gamma' : [i/10.0 for i in range(0,6)],\n",
        "    'subsample':[i/10.0 for i in range(6,10)],\n",
        "    'colsample_bytree':[i/10.0 for i in range(6,10)]\n",
        "}\n",
        "grids1 = GridSearchCV(estimator = XGBRegressor(n_estimators = 100, \n",
        "                    learning_rate =0.1,\n",
        "                    random_state=1,verbosity=0), \n",
        "                    param_grid = params)\n",
        "grids1.fit(X,Y)\n",
        "grids1.best_params_, grids1.best_score_\n",
        "\"\"\""
      ],
      "metadata": {
        "colab": {
          "base_uri": "https://localhost:8080/"
        },
        "id": "9BdquCV6g6as",
        "outputId": "a29cda32-3b85-4352-c418-a227307083a1"
      },
      "execution_count": null,
      "outputs": [
        {
          "output_type": "execute_result",
          "data": {
            "text/plain": [
              "({'colsample_bytree': 0.9,\n",
              "  'gamma': 0.2,\n",
              "  'max_depth': 8,\n",
              "  'min_child_weight': 1,\n",
              "  'subsample': 0.6},\n",
              " 0.9725260932331284)"
            ]
          },
          "metadata": {},
          "execution_count": 191
        }
      ]
    },
    {
      "cell_type": "markdown",
      "source": [
        "### Junction 2"
      ],
      "metadata": {
        "id": "C1u6PLdNijPi"
      }
    },
    {
      "cell_type": "code",
      "source": [
        "train_2, test_2 = train_test_split(train_j2,test_size=0.2)"
      ],
      "metadata": {
        "id": "a5wyNg60ijPp"
      },
      "execution_count": null,
      "outputs": []
    },
    {
      "cell_type": "code",
      "source": [
        "X = train_2.drop(['Vehicles'], axis = 1)\n",
        "Y = train_2['Vehicles']\n",
        "x_test = test_2.drop(['Vehicles'], axis = 1)\n",
        "y_test = test_2['Vehicles']"
      ],
      "metadata": {
        "id": "k9PPH_PCijPq"
      },
      "execution_count": null,
      "outputs": []
    },
    {
      "cell_type": "code",
      "source": [
        "# Final Model\n",
        "xgb_2 = XGBRegressor(n_estimators = 1000, \n",
        "                    learning_rate = 0.02,\n",
        "                    max_depth=8,\n",
        "                    min_child_weight=1,\n",
        "                    gamma=0.0,\n",
        "                    subsample=0.8,\n",
        "                    colsample_bytree=0.9,\n",
        "                    verbosity = 0,\n",
        "                    random_state=1)\n",
        "xgb_2.fit(X, Y, eval_set=[(X, Y),(x_test,y_test)],\n",
        "        early_stopping_rounds=50)"
      ],
      "metadata": {
        "id": "ogpy5uWKijPq"
      },
      "execution_count": null,
      "outputs": []
    },
    {
      "cell_type": "code",
      "source": [
        "xgb_pred_2 = xgb_2.predict(x_test)\n",
        "regressEval(y_test,xgb_pred_2, 'XGBR Junction 2')"
      ],
      "metadata": {
        "colab": {
          "base_uri": "https://localhost:8080/"
        },
        "outputId": "dee320f8-f0c6-43c3-acdf-eefecfacd65b",
        "id": "PQBvzXmNu3v7"
      },
      "execution_count": null,
      "outputs": [
        {
          "output_type": "stream",
          "name": "stdout",
          "text": [
            "The Meas Absolute Value of XGBR Junction 2 is 1.6446878076130578\n",
            "The Meas Squared Value of the XGBR Junction 2 is 4.179903082060726\n",
            "The R square score of the XGBR Junction 2 is 0.9216934767646064\n"
          ]
        }
      ]
    },
    {
      "cell_type": "code",
      "source": [
        "# Hyperparameter Tuning; Takes 22 mins to run\n",
        "params = { \n",
        "    'max_depth' : range(4, 10, 2),\n",
        "    'min_child_weight' : range(1, 4, 2),\n",
        "    'gamma' : [i/10.0 for i in range(0,5)],\n",
        "    'subsample':[i/10.0 for i in range(6,9)],\n",
        "    'colsample_bytree':[i/10.0 for i in range(6,10)]\n",
        "}\n",
        "grids1 = GridSearchCV(estimator = XGBRegressor(n_estimators = 100, \n",
        "                    learning_rate =0.1,\n",
        "                    random_state=1,verbosity=0), \n",
        "                    param_grid = params)\n",
        "grids1.fit(X,Y)\n",
        "grids1.best_params_, grids1.best_score_"
      ],
      "metadata": {
        "colab": {
          "base_uri": "https://localhost:8080/"
        },
        "id": "8eiuXeVFijPq",
        "outputId": "4ff36966-c466-4870-d45f-106d1d639320"
      },
      "execution_count": null,
      "outputs": [
        {
          "output_type": "execute_result",
          "data": {
            "text/plain": [
              "({'colsample_bytree': 0.9,\n",
              "  'gamma': 0.0,\n",
              "  'max_depth': 8,\n",
              "  'min_child_weight': 1,\n",
              "  'subsample': 0.8},\n",
              " 0.9158288869695493)"
            ]
          },
          "metadata": {},
          "execution_count": 232
        }
      ]
    },
    {
      "cell_type": "markdown",
      "source": [
        "### Junction 3"
      ],
      "metadata": {
        "id": "FYNyIbs4jG4q"
      }
    },
    {
      "cell_type": "code",
      "source": [
        "train_3, test_3 = train_test_split(train_j3,test_size=0.2)"
      ],
      "metadata": {
        "id": "AASWTbtjjG4w"
      },
      "execution_count": null,
      "outputs": []
    },
    {
      "cell_type": "code",
      "source": [
        "X = train_3.drop(['Vehicles'], axis = 1)\n",
        "Y = train_3['Vehicles']\n",
        "x_test = test_3.drop(['Vehicles'], axis = 1)\n",
        "y_test = test_3['Vehicles']"
      ],
      "metadata": {
        "id": "_7iKL6FWjG4x"
      },
      "execution_count": null,
      "outputs": []
    },
    {
      "cell_type": "code",
      "source": [
        "# Final Model For Junction 3 \n",
        "xgb_3 = XGBRegressor(n_estimators = 1000, \n",
        "                    learning_rate = 0.02,\n",
        "                    max_depth=8,\n",
        "                    min_child_weight=1,\n",
        "                    gamma=0.0,\n",
        "                    subsample=0.8,\n",
        "                    colsample_bytree=0.9,\n",
        "                    verbosity = 0,\n",
        "                    random_state=1)\n",
        "xgb_3.fit(X, Y, eval_set=[(X, Y),(x_test,y_test)],\n",
        "        early_stopping_rounds=30)"
      ],
      "metadata": {
        "id": "sit2Sv43jG4x"
      },
      "execution_count": null,
      "outputs": []
    },
    {
      "cell_type": "code",
      "source": [
        "xgb_pred_3 = xgb_3.predict(x_test)\n",
        "regressEval(y_test,xgb_pred_3, 'XGBR Junction 3')"
      ],
      "metadata": {
        "colab": {
          "base_uri": "https://localhost:8080/"
        },
        "id": "gaiBwavLvOs5",
        "outputId": "caba1e9a-2b42-4a69-b6ac-c49ffc478e85"
      },
      "execution_count": 266,
      "outputs": [
        {
          "output_type": "stream",
          "name": "stdout",
          "text": [
            "The Meas Absolute Value of XGBR Junction 3 is 2.73398898445445\n",
            "The Meas Squared Value of the XGBR Junction 3 is 22.34085005582282\n",
            "The R square score of the XGBR Junction 3 is 0.7877267556750045\n"
          ]
        }
      ]
    },
    {
      "cell_type": "code",
      "source": [
        "# Hyperparameter Tuning\n",
        "params = { \n",
        "    'max_depth' : range(2, 10, 2),\n",
        "    'min_child_weight' : range(1, 4, 2),\n",
        "    'gamma' : [i/10.0 for i in range(0,6)],\n",
        "    'subsample':[i/10.0 for i in range(6,10)],\n",
        "    'colsample_bytree':[i/10.0 for i in range(6,10)]\n",
        "}\n",
        "grids1 = GridSearchCV(estimator = XGBRegressor(n_estimators = 100, \n",
        "                    learning_rate =0.1,\n",
        "                    random_state=1,verbosity=0), \n",
        "                    param_grid = params,\n",
        "                    n_jobs = 4)\n",
        "grids1.fit(X,Y)\n",
        "grids1.best_params_, grids1.best_score_"
      ],
      "metadata": {
        "id": "nAxYitzTjG4x",
        "colab": {
          "base_uri": "https://localhost:8080/"
        },
        "outputId": "dd00203e-2190-4966-b8db-84b326c3015e"
      },
      "execution_count": 264,
      "outputs": [
        {
          "output_type": "execute_result",
          "data": {
            "text/plain": [
              "({'colsample_bytree': 0.9,\n",
              "  'gamma': 0.0,\n",
              "  'max_depth': 8,\n",
              "  'min_child_weight': 1,\n",
              "  'subsample': 0.8},\n",
              " 0.7281829342463734)"
            ]
          },
          "metadata": {},
          "execution_count": 264
        }
      ]
    },
    {
      "cell_type": "markdown",
      "source": [
        "### Junction 4"
      ],
      "metadata": {
        "id": "uY6TfGxTjHoa"
      }
    },
    {
      "cell_type": "code",
      "source": [
        "train_4, test_4 = train_test_split(train_j4,test_size=0.2)"
      ],
      "metadata": {
        "id": "jsMucznmjHoa"
      },
      "execution_count": null,
      "outputs": []
    },
    {
      "cell_type": "code",
      "source": [
        "X = train_4.drop(['Vehicles'], axis = 1)\n",
        "Y = train_4['Vehicles']\n",
        "x_test = test_4.drop(['Vehicles'], axis = 1)\n",
        "y_test = test_4['Vehicles']"
      ],
      "metadata": {
        "id": "YRoIVwbdjHoa"
      },
      "execution_count": null,
      "outputs": []
    },
    {
      "cell_type": "code",
      "source": [
        "# Final Model for Junction 4\n",
        "xgb_4 = XGBRegressor(n_estimators = 1000, \n",
        "                    learning_rate = 0.02,\n",
        "                    max_depth=4,\n",
        "                    min_child_weight=3,\n",
        "                    gamma=0.5,\n",
        "                    subsample=0.7,\n",
        "                    colsample_bytree=0.8,\n",
        "                    verbosity = 0,\n",
        "                    random_state=1)\n",
        "xgb_4.fit(X, Y, eval_set=[(X, Y),(x_test,y_test)],\n",
        "        early_stopping_rounds=30)"
      ],
      "metadata": {
        "id": "cpyzXqPevVMa"
      },
      "execution_count": null,
      "outputs": []
    },
    {
      "cell_type": "code",
      "source": [
        "xgb_pred_4 = xgb_4.predict(x_test)\n",
        "regressEval(y_test,xgb_pred_4, 'XGBR Junction 4')"
      ],
      "metadata": {
        "colab": {
          "base_uri": "https://localhost:8080/"
        },
        "id": "Dm51HwezvVMa",
        "outputId": "55bee5fe-191b-4c78-8515-ec57c790b378"
      },
      "execution_count": null,
      "outputs": [
        {
          "output_type": "stream",
          "name": "stdout",
          "text": [
            "The Meas Absolute Value of XGBR Junction 4 is 1.8170403332649907\n",
            "The Meas Squared Value of the XGBR Junction 4 is 6.066399439278161\n",
            "The R square score of the XGBR Junction 4 is 0.5325853787504791\n"
          ]
        }
      ]
    },
    {
      "cell_type": "markdown",
      "source": [
        "Maybe we want to experiment other models for Junction 4! \n",
        "\n",
        "Both regressor yields worse result"
      ],
      "metadata": {
        "id": "3T7WLmzC4TmF"
      }
    },
    {
      "cell_type": "code",
      "source": [
        "# Hyperparameter Tuning\n",
        "params = { \n",
        "    'max_depth' : range(2, 10, 2),\n",
        "    'min_child_weight' : range(1, 4, 2),\n",
        "    'gamma' : [i/10.0 for i in range(0,6)],\n",
        "    'subsample':[i/10.0 for i in range(6,10)],\n",
        "    'colsample_bytree':[i/10.0 for i in range(6,10)]\n",
        "}\n",
        "grids1 = GridSearchCV(estimator = XGBRegressor(n_estimators = 100, \n",
        "                    learning_rate =0.1,\n",
        "                    random_state=1,verbosity=0), \n",
        "                    param_grid = params,\n",
        "                    n_jobs = 2)\n",
        "grids1.fit(X,Y)\n",
        "grids1.best_params_, grids1.best_score_"
      ],
      "metadata": {
        "colab": {
          "base_uri": "https://localhost:8080/"
        },
        "id": "_wADNXLPjHob",
        "outputId": "bc773334-5630-44db-8f12-0e1ca444e91e"
      },
      "execution_count": null,
      "outputs": [
        {
          "output_type": "execute_result",
          "data": {
            "text/plain": [
              "({'colsample_bytree': 0.8,\n",
              "  'gamma': 0.5,\n",
              "  'max_depth': 4,\n",
              "  'min_child_weight': 3,\n",
              "  'subsample': 0.7},\n",
              " 0.533409214434734)"
            ]
          },
          "metadata": {},
          "execution_count": 246
        }
      ]
    },
    {
      "cell_type": "markdown",
      "source": [
        "##ARIMA"
      ],
      "metadata": {
        "id": "XdaUimwhVbP1"
      }
    },
    {
      "cell_type": "markdown",
      "source": [
        "We first run arima on Junction 1 to get a sense of how it works."
      ],
      "metadata": {
        "id": "cWaPs503W0Et"
      }
    },
    {
      "cell_type": "code",
      "source": [
        "train_j1.shape, test_j1.shape"
      ],
      "metadata": {
        "id": "jU0iOFShW0bn",
        "colab": {
          "base_uri": "https://localhost:8080/"
        },
        "outputId": "65beadf8-738d-44c1-ffe0-3dd72b81cbb8"
      },
      "execution_count": null,
      "outputs": [
        {
          "output_type": "execute_result",
          "data": {
            "text/plain": [
              "((14592, 9), (2952, 8))"
            ]
          },
          "metadata": {},
          "execution_count": 93
        }
      ]
    },
    {
      "cell_type": "code",
      "source": [
        "#train_feats = ['Weekday','Year','Month','Day','Hour','Week','Quarter']\n",
        "\n",
        "#X = train_j1[['DateTime']]\n",
        "#y = train_j1[['Vehicles']]\n",
        "df = train_j1[['DateTime','Vehicles']]\n",
        "df=df.loc[0:14000]\n",
        "df.set_index(['DateTime'],inplace=True)"
      ],
      "metadata": {
        "id": "h6Uz4diwChyc"
      },
      "execution_count": null,
      "outputs": []
    },
    {
      "cell_type": "code",
      "source": [
        "# create and fit model with random parameters \n",
        "model_j1 = ARIMA(df, order = (2,1,0))\n",
        "model_fit = model_j1.fit(disp=-1)\n",
        "print(model_fit.summary())"
      ],
      "metadata": {
        "colab": {
          "base_uri": "https://localhost:8080/"
        },
        "id": "XJTWpCICZiJr",
        "outputId": "5793d7f6-a0f9-4c03-f2de-8a978e3c498d"
      },
      "execution_count": null,
      "outputs": [
        {
          "output_type": "stream",
          "name": "stderr",
          "text": [
            "/usr/local/lib/python3.7/dist-packages/statsmodels/tsa/base/tsa_model.py:165: ValueWarning: No frequency information was provided, so inferred frequency H will be used.\n",
            "  % freq, ValueWarning)\n",
            "/usr/local/lib/python3.7/dist-packages/statsmodels/tsa/base/tsa_model.py:165: ValueWarning: No frequency information was provided, so inferred frequency H will be used.\n",
            "  % freq, ValueWarning)\n"
          ]
        },
        {
          "output_type": "stream",
          "name": "stdout",
          "text": [
            "                             ARIMA Model Results                              \n",
            "==============================================================================\n",
            "Dep. Variable:             D.Vehicles   No. Observations:                14000\n",
            "Model:                 ARIMA(2, 1, 0)   Log Likelihood              -44763.387\n",
            "Method:                       css-mle   S.D. of innovations              5.921\n",
            "Date:                Tue, 22 Feb 2022   AIC                          89534.773\n",
            "Time:                        01:57:38   BIC                          89564.961\n",
            "Sample:                    11-01-2015   HQIC                         89544.823\n",
            "                         - 06-06-2017                                         \n",
            "====================================================================================\n",
            "                       coef    std err          z      P>|z|      [0.025      0.975]\n",
            "------------------------------------------------------------------------------------\n",
            "const                0.0036      0.072      0.050      0.960      -0.138       0.145\n",
            "ar.L1.D.Vehicles     0.2028      0.008     24.123      0.000       0.186       0.219\n",
            "ar.L2.D.Vehicles     0.1043      0.008     12.413      0.000       0.088       0.121\n",
            "                                    Roots                                    \n",
            "=============================================================================\n",
            "                  Real          Imaginary           Modulus         Frequency\n",
            "-----------------------------------------------------------------------------\n",
            "AR.1            2.2730           +0.0000j            2.2730            0.0000\n",
            "AR.2           -4.2163           +0.0000j            4.2163            0.5000\n",
            "-----------------------------------------------------------------------------\n"
          ]
        }
      ]
    },
    {
      "cell_type": "code",
      "source": [
        "# save predicctions\n",
        "preds = model_fit.forecast(592)[0]\n",
        "preds[:-10]"
      ],
      "metadata": {
        "id": "jdeYR5SRcoXR",
        "colab": {
          "base_uri": "https://localhost:8080/"
        },
        "outputId": "bdc54281-6310-417e-e6dd-06ff9ea29dcc"
      },
      "execution_count": null,
      "outputs": [
        {
          "output_type": "execute_result",
          "data": {
            "text/plain": [
              "array([63.86489573, 65.49171206, 66.12299411, 66.42323068, 66.55246589,\n",
              "       66.61248564, 66.64062812, 66.65508485, 66.66344041, 66.66913086,\n",
              "       66.67364429, 66.67764099, 66.6814101 , 66.68507914, 66.68870414,\n",
              "       66.69230977, 66.69590688, 66.69950024, 66.70309195, 66.70668294,\n",
              "       66.7102736 , 66.71386413, 66.71745459, 66.72104503, 66.72463546,\n",
              "       66.72822587, 66.73181629, 66.73540671, 66.73899712, 66.74258754,\n",
              "       66.74617796, 66.74976837, 66.75335879, 66.7569492 , 66.76053962,\n",
              "       66.76413003, 66.76772045, 66.77131086, 66.77490128, 66.77849169,\n",
              "       66.78208211, 66.78567252, 66.78926294, 66.79285336, 66.79644377,\n",
              "       66.80003419, 66.8036246 , 66.80721502, 66.81080543, 66.81439585,\n",
              "       66.81798626, 66.82157668, 66.82516709, 66.82875751, 66.83234793,\n",
              "       66.83593834, 66.83952876, 66.84311917, 66.84670959, 66.8503    ,\n",
              "       66.85389042, 66.85748083, 66.86107125, 66.86466166, 66.86825208,\n",
              "       66.8718425 , 66.87543291, 66.87902333, 66.88261374, 66.88620416,\n",
              "       66.88979457, 66.89338499, 66.8969754 , 66.90056582, 66.90415623,\n",
              "       66.90774665, 66.91133706, 66.91492748, 66.9185179 , 66.92210831,\n",
              "       66.92569873, 66.92928914, 66.93287956, 66.93646997, 66.94006039,\n",
              "       66.9436508 , 66.94724122, 66.95083163, 66.95442205, 66.95801247,\n",
              "       66.96160288, 66.9651933 , 66.96878371, 66.97237413, 66.97596454,\n",
              "       66.97955496, 66.98314537, 66.98673579, 66.9903262 , 66.99391662,\n",
              "       66.99750703, 67.00109745, 67.00468787, 67.00827828, 67.0118687 ,\n",
              "       67.01545911, 67.01904953, 67.02263994, 67.02623036, 67.02982077,\n",
              "       67.03341119, 67.0370016 , 67.04059202, 67.04418244, 67.04777285,\n",
              "       67.05136327, 67.05495368, 67.0585441 , 67.06213451, 67.06572493,\n",
              "       67.06931534, 67.07290576, 67.07649617, 67.08008659, 67.083677  ,\n",
              "       67.08726742, 67.09085784, 67.09444825, 67.09803867, 67.10162908,\n",
              "       67.1052195 , 67.10880991, 67.11240033, 67.11599074, 67.11958116,\n",
              "       67.12317157, 67.12676199, 67.13035241, 67.13394282, 67.13753324,\n",
              "       67.14112365, 67.14471407, 67.14830448, 67.1518949 , 67.15548531,\n",
              "       67.15907573, 67.16266614, 67.16625656, 67.16984698, 67.17343739,\n",
              "       67.17702781, 67.18061822, 67.18420864, 67.18779905, 67.19138947,\n",
              "       67.19497988, 67.1985703 , 67.20216071, 67.20575113, 67.20934154,\n",
              "       67.21293196, 67.21652238, 67.22011279, 67.22370321, 67.22729362,\n",
              "       67.23088404, 67.23447445, 67.23806487, 67.24165528, 67.2452457 ,\n",
              "       67.24883611, 67.25242653, 67.25601695, 67.25960736, 67.26319778,\n",
              "       67.26678819, 67.27037861, 67.27396902, 67.27755944, 67.28114985,\n",
              "       67.28474027, 67.28833068, 67.2919211 , 67.29551151, 67.29910193,\n",
              "       67.30269235, 67.30628276, 67.30987318, 67.31346359, 67.31705401,\n",
              "       67.32064442, 67.32423484, 67.32782525, 67.33141567, 67.33500608,\n",
              "       67.3385965 , 67.34218692, 67.34577733, 67.34936775, 67.35295816,\n",
              "       67.35654858, 67.36013899, 67.36372941, 67.36731982, 67.37091024,\n",
              "       67.37450065, 67.37809107, 67.38168148, 67.3852719 , 67.38886232,\n",
              "       67.39245273, 67.39604315, 67.39963356, 67.40322398, 67.40681439,\n",
              "       67.41040481, 67.41399522, 67.41758564, 67.42117605, 67.42476647,\n",
              "       67.42835689, 67.4319473 , 67.43553772, 67.43912813, 67.44271855,\n",
              "       67.44630896, 67.44989938, 67.45348979, 67.45708021, 67.46067062,\n",
              "       67.46426104, 67.46785145, 67.47144187, 67.47503229, 67.4786227 ,\n",
              "       67.48221312, 67.48580353, 67.48939395, 67.49298436, 67.49657478,\n",
              "       67.50016519, 67.50375561, 67.50734602, 67.51093644, 67.51452686,\n",
              "       67.51811727, 67.52170769, 67.5252981 , 67.52888852, 67.53247893,\n",
              "       67.53606935, 67.53965976, 67.54325018, 67.54684059, 67.55043101,\n",
              "       67.55402143, 67.55761184, 67.56120226, 67.56479267, 67.56838309,\n",
              "       67.5719735 , 67.57556392, 67.57915433, 67.58274475, 67.58633516,\n",
              "       67.58992558, 67.59351599, 67.59710641, 67.60069683, 67.60428724,\n",
              "       67.60787766, 67.61146807, 67.61505849, 67.6186489 , 67.62223932,\n",
              "       67.62582973, 67.62942015, 67.63301056, 67.63660098, 67.6401914 ,\n",
              "       67.64378181, 67.64737223, 67.65096264, 67.65455306, 67.65814347,\n",
              "       67.66173389, 67.6653243 , 67.66891472, 67.67250513, 67.67609555,\n",
              "       67.67968596, 67.68327638, 67.6868668 , 67.69045721, 67.69404763,\n",
              "       67.69763804, 67.70122846, 67.70481887, 67.70840929, 67.7119997 ,\n",
              "       67.71559012, 67.71918053, 67.72277095, 67.72636137, 67.72995178,\n",
              "       67.7335422 , 67.73713261, 67.74072303, 67.74431344, 67.74790386,\n",
              "       67.75149427, 67.75508469, 67.7586751 , 67.76226552, 67.76585593,\n",
              "       67.76944635, 67.77303677, 67.77662718, 67.7802176 , 67.78380801,\n",
              "       67.78739843, 67.79098884, 67.79457926, 67.79816967, 67.80176009,\n",
              "       67.8053505 , 67.80894092, 67.81253134, 67.81612175, 67.81971217,\n",
              "       67.82330258, 67.826893  , 67.83048341, 67.83407383, 67.83766424,\n",
              "       67.84125466, 67.84484507, 67.84843549, 67.8520259 , 67.85561632,\n",
              "       67.85920674, 67.86279715, 67.86638757, 67.86997798, 67.8735684 ,\n",
              "       67.87715881, 67.88074923, 67.88433964, 67.88793006, 67.89152047,\n",
              "       67.89511089, 67.89870131, 67.90229172, 67.90588214, 67.90947255,\n",
              "       67.91306297, 67.91665338, 67.9202438 , 67.92383421, 67.92742463,\n",
              "       67.93101504, 67.93460546, 67.93819588, 67.94178629, 67.94537671,\n",
              "       67.94896712, 67.95255754, 67.95614795, 67.95973837, 67.96332878,\n",
              "       67.9669192 , 67.97050961, 67.97410003, 67.97769044, 67.98128086,\n",
              "       67.98487128, 67.98846169, 67.99205211, 67.99564252, 67.99923294,\n",
              "       68.00282335, 68.00641377, 68.01000418, 68.0135946 , 68.01718501,\n",
              "       68.02077543, 68.02436585, 68.02795626, 68.03154668, 68.03513709,\n",
              "       68.03872751, 68.04231792, 68.04590834, 68.04949875, 68.05308917,\n",
              "       68.05667958, 68.06027   , 68.06386041, 68.06745083, 68.07104125,\n",
              "       68.07463166, 68.07822208, 68.08181249, 68.08540291, 68.08899332,\n",
              "       68.09258374, 68.09617415, 68.09976457, 68.10335498, 68.1069454 ,\n",
              "       68.11053582, 68.11412623, 68.11771665, 68.12130706, 68.12489748,\n",
              "       68.12848789, 68.13207831, 68.13566872, 68.13925914, 68.14284955,\n",
              "       68.14643997, 68.15003038, 68.1536208 , 68.15721122, 68.16080163,\n",
              "       68.16439205, 68.16798246, 68.17157288, 68.17516329, 68.17875371,\n",
              "       68.18234412, 68.18593454, 68.18952495, 68.19311537, 68.19670579,\n",
              "       68.2002962 , 68.20388662, 68.20747703, 68.21106745, 68.21465786,\n",
              "       68.21824828, 68.22183869, 68.22542911, 68.22901952, 68.23260994,\n",
              "       68.23620036, 68.23979077, 68.24338119, 68.2469716 , 68.25056202,\n",
              "       68.25415243, 68.25774285, 68.26133326, 68.26492368, 68.26851409,\n",
              "       68.27210451, 68.27569492, 68.27928534, 68.28287576, 68.28646617,\n",
              "       68.29005659, 68.293647  , 68.29723742, 68.30082783, 68.30441825,\n",
              "       68.30800866, 68.31159908, 68.31518949, 68.31877991, 68.32237033,\n",
              "       68.32596074, 68.32955116, 68.33314157, 68.33673199, 68.3403224 ,\n",
              "       68.34391282, 68.34750323, 68.35109365, 68.35468406, 68.35827448,\n",
              "       68.36186489, 68.36545531, 68.36904573, 68.37263614, 68.37622656,\n",
              "       68.37981697, 68.38340739, 68.3869978 , 68.39058822, 68.39417863,\n",
              "       68.39776905, 68.40135946, 68.40494988, 68.4085403 , 68.41213071,\n",
              "       68.41572113, 68.41931154, 68.42290196, 68.42649237, 68.43008279,\n",
              "       68.4336732 , 68.43726362, 68.44085403, 68.44444445, 68.44803486,\n",
              "       68.45162528, 68.4552157 , 68.45880611, 68.46239653, 68.46598694,\n",
              "       68.46957736, 68.47316777, 68.47675819, 68.4803486 , 68.48393902,\n",
              "       68.48752943, 68.49111985, 68.49471027, 68.49830068, 68.5018911 ,\n",
              "       68.50548151, 68.50907193, 68.51266234, 68.51625276, 68.51984317,\n",
              "       68.52343359, 68.527024  , 68.53061442, 68.53420483, 68.53779525,\n",
              "       68.54138567, 68.54497608, 68.5485665 , 68.55215691, 68.55574733,\n",
              "       68.55933774, 68.56292816, 68.56651857, 68.57010899, 68.5736994 ,\n",
              "       68.57728982, 68.58088024, 68.58447065, 68.58806107, 68.59165148,\n",
              "       68.5952419 , 68.59883231, 68.60242273, 68.60601314, 68.60960356,\n",
              "       68.61319397, 68.61678439, 68.62037481, 68.62396522, 68.62755564,\n",
              "       68.63114605, 68.63473647, 68.63832688, 68.6419173 , 68.64550771,\n",
              "       68.64909813, 68.65268854, 68.65627896, 68.65986937, 68.66345979,\n",
              "       68.66705021, 68.67064062, 68.67423104, 68.67782145, 68.68141187,\n",
              "       68.68500228, 68.6885927 , 68.69218311, 68.69577353, 68.69936394,\n",
              "       68.70295436, 68.70654478, 68.71013519, 68.71372561, 68.71731602,\n",
              "       68.72090644, 68.72449685])"
            ]
          },
          "metadata": {},
          "execution_count": 134
        }
      ]
    },
    {
      "cell_type": "code",
      "source": [
        "# evaluate model\n",
        "ans = train_j1[['DateTime','Vehicles']]\n",
        "ans = ans.loc[14000:]\n",
        "mse = (mean_squared_error(ans['Vehicles'], preds))\n",
        "mse # MSE is  "
      ],
      "metadata": {
        "colab": {
          "base_uri": "https://localhost:8080/"
        },
        "id": "vgEpSraFcyK1",
        "outputId": "b4f02a11-81b7-4e67-cff1-5451fa74c98b"
      },
      "execution_count": null,
      "outputs": [
        {
          "output_type": "execute_result",
          "data": {
            "text/plain": [
              "815.09490837898"
            ]
          },
          "metadata": {},
          "execution_count": 130
        }
      ]
    },
    {
      "cell_type": "code",
      "source": [
        "plt.figure(figsize=(18,8))\n",
        "sns.lineplot(data=train_j1,x='DateTime',y='Vehicles',color='blue')\n",
        "sns.lineplot(x=ans.DateTime,y=preds,color='orange')"
      ],
      "metadata": {
        "colab": {
          "base_uri": "https://localhost:8080/",
          "height": 514
        },
        "id": "Z1ltfIo85N7Z",
        "outputId": "31974c5a-b2c5-46fa-a907-8eeace83bdaf"
      },
      "execution_count": null,
      "outputs": [
        {
          "output_type": "execute_result",
          "data": {
            "text/plain": [
              "<matplotlib.axes._subplots.AxesSubplot at 0x7f86f87bb2d0>"
            ]
          },
          "metadata": {},
          "execution_count": 135
        },
        {
          "output_type": "display_data",
          "data": {
            "image/png": "[encoded data removed]",
            "text/plain": [
              "<Figure size 1296x576 with 1 Axes>"
            ]
          },
          "metadata": {
            "needs_background": "light"
          }
        }
      ]
    },
    {
      "cell_type": "markdown",
      "source": [
        "The trend is there but we haven't found other patterns."
      ],
      "metadata": {
        "id": "UKEB0XKW7X--"
      }
    },
    {
      "cell_type": "markdown",
      "source": [
        ""
      ],
      "metadata": {
        "id": "8-GxgIxuc6k6"
      }
    },
    {
      "cell_type": "markdown",
      "source": [
        ""
      ],
      "metadata": {
        "id": "UCjLSv6Efm4-"
      }
    }
  ]
}